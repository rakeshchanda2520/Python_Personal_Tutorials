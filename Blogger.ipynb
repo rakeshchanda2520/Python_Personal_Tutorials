{
 "cells": [
  {
   "cell_type": "code",
   "execution_count": 43,
   "id": "52fbf964",
   "metadata": {},
   "outputs": [],
   "source": [
    "import mysql.connector\n",
    "\n",
    "mydb= mysql.connector.connect(\n",
    "    host=\"localhost\",\n",
    "    username=\"root\",\n",
    "    password=\"manager\",\n",
    "    database=\"blogger\"\n",
    ")\n"
   ]
  },
  {
   "cell_type": "code",
   "execution_count": 32,
   "id": "698f1c54",
   "metadata": {},
   "outputs": [],
   "source": [
    "import numpy as np\n",
    "import pandas as pd\n",
    "from datetime import datetime\n",
    "import traceback\n"
   ]
  },
  {
   "cell_type": "code",
   "execution_count": 6,
   "id": "ba9622c9",
   "metadata": {},
   "outputs": [
    {
     "data": {
      "text/plain": [
       "True"
      ]
     },
     "execution_count": 6,
     "metadata": {},
     "output_type": "execute_result"
    }
   ],
   "source": [
    "mycursor=mydb.cursor()\n",
    "mycursor.execute(\"CREATE TABLE user (uid INT UNIQUE AUTO_INCREMENT, name varchar(20),email varchar(50) UNIQUE,password varchar(50),mobile int unique,date DATE)\")\n",
    "mycursor.close()"
   ]
  },
  {
   "cell_type": "code",
   "execution_count": 42,
   "id": "5f31ea8a",
   "metadata": {},
   "outputs": [
    {
     "data": {
      "text/plain": [
       "True"
      ]
     },
     "execution_count": 42,
     "metadata": {},
     "output_type": "execute_result"
    }
   ],
   "source": [
    "mycursor=mydb.cursor()\n",
    "mycursor.execute(\"CREATE TABLE category (uid INT ,cid Int unique Auto_increment,title varchar (20),Description text ,ctime TIME)\")\n",
    "mycursor.close()"
   ]
  },
  {
   "cell_type": "code",
   "execution_count": 44,
   "id": "a60ebe0e",
   "metadata": {},
   "outputs": [],
   "source": [
    "def register_user():\n",
    "    try:\n",
    "        name1=input(\"Enter user name: \")\n",
    "        email1=input(\"Enter email: \")\n",
    "        password1=input(\"Enter password: \")\n",
    "        mobile1=int(input(\"Enter mobile: \"))\n",
    "\n",
    "        if email1.endswith(\".com\") and \"@\" in email1:\n",
    "            mycursor=mydb.cursor()\n",
    "            mycursor.execute(\"Insert into user(name,email,password,mobile) values(%s,%s,%s,%s)\",(name1,email1,password1,mobile1))\n",
    "            mycursor.close()\n",
    "            mydb.commit()\n",
    "    \n",
    "    except:\n",
    "        print(\"Error in register_user()\")"
   ]
  },
  {
   "cell_type": "code",
   "execution_count": 4,
   "id": "6a8ed9cd",
   "metadata": {},
   "outputs": [],
   "source": [
    "# register()"
   ]
  },
  {
   "cell_type": "code",
   "execution_count": 33,
   "id": "96b2cb36",
   "metadata": {},
   "outputs": [],
   "source": [
    "def login():\n",
    "    try:\n",
    "        id = input(\"Enter The ID :\")\n",
    "        if id.isnumeric():\n",
    "            id = int(id)\n",
    "        else:\n",
    "            print(\"Enter id in Integer Format\")\n",
    "            login()\n",
    "        password = input(\"Enter Password :\")\n",
    "\n",
    "        mycursor=mydb.cursor()\n",
    "        mycursor.execute(\"SELECT password FROM user where user.id=%s\",(id))\n",
    "        rows = mycursor.fetchall()\n",
    "    #     for row in rows:\n",
    "    #         print(row)\n",
    "        mycursor.close()\n",
    "\n",
    "\n",
    "        if len(rows)!= 0:\n",
    "            if password == rows :\n",
    "                print(\"Login Is Successful\")\n",
    "    #             df_User.to_csv(\"User2.csv\")\n",
    "                blog_menu(id)\n",
    "            else:\n",
    "                print(\"Invalid Username or Password\\n\")\n",
    "                main_menu()\n",
    "        \n",
    "    except Exception:\n",
    "        traceback.print_exc()\n",
    "            "
   ]
  },
  {
   "cell_type": "code",
   "execution_count": 6,
   "id": "cb70a1d1",
   "metadata": {},
   "outputs": [],
   "source": [
    "def add_cateory():\n",
    "    try:\n",
    "        uid=input(\"Enter id:\")\n",
    "        title1 = input(\"Enter Title\")\n",
    "        DESC = input(\"Enter DESC\")\n",
    "        c = datetime.now()\n",
    "        mycursor=mydb.cursor()\n",
    "        mycursor.execute(\"Insert into category(uid,title,description,ctime) values(%s,%s,%s,%s)\",(uid,title1,DESC,c))\n",
    "        mycursor.close()\n",
    "        mydb.commit()\n",
    "    \n",
    "    except:\n",
    "        print(\"Error in add_categoty\")\n",
    "    \n",
    "    "
   ]
  },
  {
   "cell_type": "code",
   "execution_count": 8,
   "id": "68fa7144",
   "metadata": {},
   "outputs": [],
   "source": [
    "# add_cateory()"
   ]
  },
  {
   "cell_type": "code",
   "execution_count": 46,
   "id": "3a7403a9",
   "metadata": {},
   "outputs": [],
   "source": [
    "mycursor=mydb.cursor()\n",
    "mycursor.execute(\"CREATE TABLE blog (cid INT ,bid int unique auto_increment,title varchar(20),category varchar(25),\")\n",
    "mycursor.close()"
   ]
  },
  {
   "cell_type": "code",
   "execution_count": 42,
   "id": "947dea4c",
   "metadata": {
    "collapsed": true
   },
   "outputs": [],
   "source": [
    "def show_all_user():\n",
    "    try:\n",
    "        mycursor=mydb.cursor()\n",
    "        mycursor.execute(\"SELECT * FROM user\")\n",
    "        rows = mycursor.fetchall()\n",
    "        for row in rows:\n",
    "            print(row[1])\n",
    "        mycursor.close()\n",
    "        \n",
    "    except:\n",
    "        print(\"Error in show_all_user\")"
   ]
  },
  {
   "cell_type": "code",
   "execution_count": 8,
   "id": "4c806a1d",
   "metadata": {},
   "outputs": [],
   "source": [
    "# show_all_user()"
   ]
  },
  {
   "cell_type": "code",
   "execution_count": 9,
   "id": "eadda452",
   "metadata": {},
   "outputs": [],
   "source": [
    "def show_category():\n",
    "    try:\n",
    "        mycursor=mydb.cursor()\n",
    "        mycursor.execute(\"SELECT * FROM category\")\n",
    "        rows = mycursor.fetchall()\n",
    "        for row in rows:\n",
    "            print(row)\n",
    "        mycursor.close()\n",
    "        \n",
    "    except:\n",
    "        print(\"Error in show_category\")\n",
    "    \n",
    "    \n",
    "\n"
   ]
  },
  {
   "cell_type": "code",
   "execution_count": 10,
   "id": "0aff2529",
   "metadata": {},
   "outputs": [],
   "source": [
    "# show_category()"
   ]
  },
  {
   "cell_type": "code",
   "execution_count": 11,
   "id": "01ca67f0",
   "metadata": {},
   "outputs": [],
   "source": [
    "def create_blog(uid):\n",
    "    try:\n",
    "        title = input(\"Enter title: \")\n",
    "        show_category()\n",
    "        cid = int(input(\"Enter category id: \"))\n",
    "        mycursor=mydb.cursor()\n",
    "        mycursor.execute(\"SELECT * FROM category where cid=%s\",(cid))\n",
    "        rows = mycursor.fetchall()\n",
    "        for row in rows:\n",
    "            print(\"Categoty selected is \"+row)\n",
    "\n",
    "    #     category = list(df_category.Title[df_category[\"CID\"]==cid])[0]\n",
    "    #     print(category)\n",
    "    #     file_name = input(\"Enter file name: \")\n",
    "    #     if not file_name.endswith(\".txt\"):\n",
    "    #         file_name = file_name+\".txt\"\n",
    "    #     content = input(\"Enter contents :\")\n",
    "    #     if \"|\" in content:\n",
    "    #         file = open(file_name,'w')\n",
    "    #         file.write(content.split(\"|\")[0])\n",
    "    #         file.close()\n",
    "    #     else:\n",
    "    #         print(\"Enter | To show EOF\")\n",
    "\n",
    "        content=input(\"Enter content: \")\n",
    "\n",
    "        mycursor=mydb.cursor()\n",
    "        mycursor.execute(\"Insert into blog values (%s,%s,%s,%s)\",(title, category,content,uid))\n",
    "        mycursor.close()\n",
    "        mydb.commit()  \n",
    "\n",
    "    #     df_blog.loc[len(df_blog.index)] = [len(df_blog.index)+1, title, category,file_name,uid, datetime.now()]\n",
    "    #     df_blog.to_csv(\"Blog.csv\")    \n",
    "    #     print(\"\\nBlog Added Successfully\\n\")\n",
    "    #     print(\"Your BID is \",end=\"\")\n",
    "    #     print(len(df_blog.index))\n",
    "    except:\n",
    "        print(\"Error in create_blog\")"
   ]
  },
  {
   "cell_type": "code",
   "execution_count": 12,
   "id": "62b8cde6",
   "metadata": {},
   "outputs": [],
   "source": [
    "# create_blog(2)"
   ]
  },
  {
   "cell_type": "code",
   "execution_count": 13,
   "id": "643e0149",
   "metadata": {},
   "outputs": [],
   "source": [
    "def delete_blog(uid,bid):\n",
    "    try:\n",
    "        mycursor=mydb.cursor()\n",
    "        mycursor.execute(\"Delete from blog where bid=%s and uid=%s\",(bid,uid))\n",
    "        mycursor.close()\n",
    "        mydb.commit()\n",
    "\n",
    "    #     df_blog.drop((df_blog.index[df_blog['BID']==bid].tolist())[0],axis=0,inplace=True)\n",
    "    #     df_blog.to_csv(\"Blog.csv\")  \n",
    "    #     print(\"File Deleted Successfully!!\")\n",
    "    \n",
    "    except:\n",
    "        print(\"Error in delete_blog\")"
   ]
  },
  {
   "cell_type": "code",
   "execution_count": 14,
   "id": "94c76d2d",
   "metadata": {},
   "outputs": [],
   "source": [
    "# delete_blog()"
   ]
  },
  {
   "cell_type": "code",
   "execution_count": 15,
   "id": "b6bfecad",
   "metadata": {},
   "outputs": [],
   "source": [
    "def show_all_blogs():\n",
    "    try:\n",
    "        mycursor=mydb.cursor()\n",
    "        mycursor.execute(\"SELECT * FROM blog\")\n",
    "        rows = mycursor.fetchall()\n",
    "    #     for row in rows:\n",
    "    #         print(row)\n",
    "\n",
    "\n",
    "        print(\"-\"*85)\n",
    "        print(\"BID\\tTitle\\tCategory\\tContent\\t\\tUserID\")\n",
    "        print(\"-\"*85)\n",
    "        for row in rows:\n",
    "            print(row[0],end=\"\\t\")\n",
    "            print(row[1],end=\"\\t\")\n",
    "            print(row[2],end=\"\\t\")\n",
    "            print(end=\"\\t\")\n",
    "            print(row[3],end=\"\\t\")\n",
    "    #         print(end=\"\\t\")\n",
    "            print(row[4],end=\"\\t\")\n",
    "            print()\n",
    "            print(\"-\"*85)\n",
    "        mycursor.close()\n",
    "        \n",
    "    except:\n",
    "        print(\"Error in show_all_blogs\")\n"
   ]
  },
  {
   "cell_type": "code",
   "execution_count": 16,
   "id": "3070078f",
   "metadata": {},
   "outputs": [],
   "source": [
    "# show_all_blogs()"
   ]
  },
  {
   "cell_type": "code",
   "execution_count": 17,
   "id": "08c7efd0",
   "metadata": {},
   "outputs": [],
   "source": [
    "def show_my_blogs(uid):\n",
    "    try:\n",
    "        mycursor=mydb.cursor()\n",
    "        mycursor.execute(\"SELECT * FROM blog where uid=%s\",(uid))\n",
    "        rows = mycursor.fetchall()\n",
    "        print(\"-\"*85)\n",
    "        print(\"BID\\tTitle\\tCategory\\tFileName\\tUserID\\tCreation-Time\")\n",
    "        print(\"-\"*85)\n",
    "        print(\"-\"*85)\n",
    "        print(\"BID\\tTitle\\tCategory\\tContent\\t\\tUserID\")\n",
    "        print(\"-\"*85)\n",
    "        for row in rows:\n",
    "            print(row[0],end=\"\\t\")\n",
    "            print(row[1],end=\"\\t\")\n",
    "            print(row[2],end=\"\\t\")\n",
    "            print(end=\"\\t\")\n",
    "            print(row[3],end=\"\\t\")\n",
    "    #         print(end=\"\\t\")\n",
    "            print(row[4],end=\"\\t\")\n",
    "            print()\n",
    "            print(\"-\"*85)\n",
    "        mycursor.close()\n",
    "    \n",
    "    except:\n",
    "        print(\"Error in show bolgs\")\n"
   ]
  },
  {
   "cell_type": "code",
   "execution_count": 18,
   "id": "28344b06",
   "metadata": {},
   "outputs": [],
   "source": [
    "# show_my_blogs(uid)"
   ]
  },
  {
   "cell_type": "code",
   "execution_count": null,
   "id": "99328f6d",
   "metadata": {},
   "outputs": [],
   "source": [
    "def edit_blog_content(bid,uid):\n",
    "    try:\n",
    "    #     df_blog_demo = df_blog[df_blog[\"BID\"]==bid]\n",
    "    #     filename = list(df_blog_demo[\"FileName\"])[0]\n",
    "        text = input(\"Write New Contents In Blog File :\")\n",
    "\n",
    "        mycursor=mydb.cursor()\n",
    "        mycursor.execute(\"Update blog set content=%s where bid=%s and uid=%s\",(text,bid,uid))\n",
    "        mycursor.close()\n",
    "        mydb.commit()\n",
    "\n",
    "    #     with open(filename, \"w\") as file:\n",
    "    #         file.write(text.split(\"|\")[0])\n",
    "        print(\"Content Written Successfully\")\n",
    "        \n",
    "    except Exception:\n",
    "        traceback.print_exc()\n"
   ]
  },
  {
   "cell_type": "code",
   "execution_count": 20,
   "id": "bf5adcfc",
   "metadata": {},
   "outputs": [],
   "source": [
    "# edit_blog_content()"
   ]
  },
  {
   "cell_type": "code",
   "execution_count": 36,
   "id": "75e3ae60",
   "metadata": {},
   "outputs": [
    {
     "name": "stdout",
     "output_type": "stream",
     "text": [
      "Welcome To Blogging App\n",
      "0. Exit\n",
      "1. Login\n",
      "2. Register\n",
      "3. Show All User\n"
     ]
    },
    {
     "ename": "KeyboardInterrupt",
     "evalue": "Interrupted by user",
     "output_type": "error",
     "traceback": [
      "\u001b[1;31m---------------------------------------------------------------------------\u001b[0m",
      "\u001b[1;31mKeyboardInterrupt\u001b[0m                         Traceback (most recent call last)",
      "Cell \u001b[1;32mIn [36], line 69\u001b[0m\n\u001b[0;32m     65\u001b[0m         \u001b[38;5;28;01melse\u001b[39;00m:\n\u001b[0;32m     66\u001b[0m             \u001b[38;5;28mprint\u001b[39m(\u001b[38;5;124mf\u001b[39m\u001b[38;5;124m\"\u001b[39m\u001b[38;5;124mOOPS Invalid Choice\u001b[39m\u001b[38;5;124m\"\u001b[39m)\n\u001b[1;32m---> 69\u001b[0m \u001b[43mmain_menu\u001b[49m\u001b[43m(\u001b[49m\u001b[43m)\u001b[49m\n",
      "Cell \u001b[1;32mIn [36], line 56\u001b[0m, in \u001b[0;36mmain_menu\u001b[1;34m()\u001b[0m\n\u001b[0;32m     54\u001b[0m \u001b[38;5;28mprint\u001b[39m(\u001b[38;5;124m\"\u001b[39m\u001b[38;5;124m2. Register\u001b[39m\u001b[38;5;124m\"\u001b[39m)\n\u001b[0;32m     55\u001b[0m \u001b[38;5;28mprint\u001b[39m(\u001b[38;5;124m\"\u001b[39m\u001b[38;5;124m3. Show All User\u001b[39m\u001b[38;5;124m\"\u001b[39m)\n\u001b[1;32m---> 56\u001b[0m choice \u001b[38;5;241m=\u001b[39m \u001b[38;5;28mint\u001b[39m(\u001b[38;5;28;43minput\u001b[39;49m\u001b[43m(\u001b[49m\u001b[38;5;124;43m\"\u001b[39;49m\u001b[38;5;124;43mEnter your choice:\u001b[39;49m\u001b[38;5;124;43m\"\u001b[39;49m\u001b[43m)\u001b[49m)\n\u001b[0;32m     57\u001b[0m \u001b[38;5;28;01mif\u001b[39;00m choice \u001b[38;5;241m==\u001b[39m \u001b[38;5;241m0\u001b[39m:\n\u001b[0;32m     58\u001b[0m     \u001b[38;5;28;01mbreak\u001b[39;00m\n",
      "File \u001b[1;32mc:\\users\\rahul\\appdata\\local\\programs\\python\\python39\\lib\\site-packages\\ipykernel\\kernelbase.py:1177\u001b[0m, in \u001b[0;36mKernel.raw_input\u001b[1;34m(self, prompt)\u001b[0m\n\u001b[0;32m   1173\u001b[0m \u001b[38;5;28;01mif\u001b[39;00m \u001b[38;5;129;01mnot\u001b[39;00m \u001b[38;5;28mself\u001b[39m\u001b[38;5;241m.\u001b[39m_allow_stdin:\n\u001b[0;32m   1174\u001b[0m     \u001b[38;5;28;01mraise\u001b[39;00m StdinNotImplementedError(\n\u001b[0;32m   1175\u001b[0m         \u001b[38;5;124m\"\u001b[39m\u001b[38;5;124mraw_input was called, but this frontend does not support input requests.\u001b[39m\u001b[38;5;124m\"\u001b[39m\n\u001b[0;32m   1176\u001b[0m     )\n\u001b[1;32m-> 1177\u001b[0m \u001b[38;5;28;01mreturn\u001b[39;00m \u001b[38;5;28;43mself\u001b[39;49m\u001b[38;5;241;43m.\u001b[39;49m\u001b[43m_input_request\u001b[49m\u001b[43m(\u001b[49m\n\u001b[0;32m   1178\u001b[0m \u001b[43m    \u001b[49m\u001b[38;5;28;43mstr\u001b[39;49m\u001b[43m(\u001b[49m\u001b[43mprompt\u001b[49m\u001b[43m)\u001b[49m\u001b[43m,\u001b[49m\n\u001b[0;32m   1179\u001b[0m \u001b[43m    \u001b[49m\u001b[38;5;28;43mself\u001b[39;49m\u001b[38;5;241;43m.\u001b[39;49m\u001b[43m_parent_ident\u001b[49m\u001b[43m[\u001b[49m\u001b[38;5;124;43m\"\u001b[39;49m\u001b[38;5;124;43mshell\u001b[39;49m\u001b[38;5;124;43m\"\u001b[39;49m\u001b[43m]\u001b[49m\u001b[43m,\u001b[49m\n\u001b[0;32m   1180\u001b[0m \u001b[43m    \u001b[49m\u001b[38;5;28;43mself\u001b[39;49m\u001b[38;5;241;43m.\u001b[39;49m\u001b[43mget_parent\u001b[49m\u001b[43m(\u001b[49m\u001b[38;5;124;43m\"\u001b[39;49m\u001b[38;5;124;43mshell\u001b[39;49m\u001b[38;5;124;43m\"\u001b[39;49m\u001b[43m)\u001b[49m\u001b[43m,\u001b[49m\n\u001b[0;32m   1181\u001b[0m \u001b[43m    \u001b[49m\u001b[43mpassword\u001b[49m\u001b[38;5;241;43m=\u001b[39;49m\u001b[38;5;28;43;01mFalse\u001b[39;49;00m\u001b[43m,\u001b[49m\n\u001b[0;32m   1182\u001b[0m \u001b[43m\u001b[49m\u001b[43m)\u001b[49m\n",
      "File \u001b[1;32mc:\\users\\rahul\\appdata\\local\\programs\\python\\python39\\lib\\site-packages\\ipykernel\\kernelbase.py:1219\u001b[0m, in \u001b[0;36mKernel._input_request\u001b[1;34m(self, prompt, ident, parent, password)\u001b[0m\n\u001b[0;32m   1216\u001b[0m             \u001b[38;5;28;01mbreak\u001b[39;00m\n\u001b[0;32m   1217\u001b[0m \u001b[38;5;28;01mexcept\u001b[39;00m \u001b[38;5;167;01mKeyboardInterrupt\u001b[39;00m:\n\u001b[0;32m   1218\u001b[0m     \u001b[38;5;66;03m# re-raise KeyboardInterrupt, to truncate traceback\u001b[39;00m\n\u001b[1;32m-> 1219\u001b[0m     \u001b[38;5;28;01mraise\u001b[39;00m \u001b[38;5;167;01mKeyboardInterrupt\u001b[39;00m(\u001b[38;5;124m\"\u001b[39m\u001b[38;5;124mInterrupted by user\u001b[39m\u001b[38;5;124m\"\u001b[39m) \u001b[38;5;28;01mfrom\u001b[39;00m \u001b[38;5;28mNone\u001b[39m\n\u001b[0;32m   1220\u001b[0m \u001b[38;5;28;01mexcept\u001b[39;00m \u001b[38;5;167;01mException\u001b[39;00m:\n\u001b[0;32m   1221\u001b[0m     \u001b[38;5;28mself\u001b[39m\u001b[38;5;241m.\u001b[39mlog\u001b[38;5;241m.\u001b[39mwarning(\u001b[38;5;124m\"\u001b[39m\u001b[38;5;124mInvalid Message:\u001b[39m\u001b[38;5;124m\"\u001b[39m, exc_info\u001b[38;5;241m=\u001b[39m\u001b[38;5;28;01mTrue\u001b[39;00m)\n",
      "\u001b[1;31mKeyboardInterrupt\u001b[0m: Interrupted by user"
     ]
    }
   ],
   "source": [
    "def blog_menu(uid):\n",
    "    while(True):\n",
    "        print(\"\\n\\n1.Show Category\\n2.Add Category\\n3.Create A Blog\\n4.Display All Blogs\\n5.Show My Blogs\\n6.Delete Blog\\n7.Read Blog Content\\n8.Edit Blog\\n9.Search Blog\\n0.Logout\")\n",
    "        choice = int(input(\"Enter Your Choice :\"))\n",
    "        if choice == 1:\n",
    "            show_category()\n",
    "        elif choice == 2:\n",
    "            add_category()\n",
    "        elif choice == 3:\n",
    "            create_blog(uid)\n",
    "        elif choice == 4:\n",
    "            show_all_blogs()\n",
    "        elif choice == 5:\n",
    "#             bid = int(input(\"Enter BID :\"))\n",
    "#             if bid in list(df_blog.BID):\n",
    "#                 show_my_blogs(bid)\n",
    "#             else:\n",
    "#                 print(\"Enter Valid BID\")\n",
    "            show_my_blogs(uid)\n",
    "    \n",
    "        elif choice == 6:\n",
    "            bid = int(input(\"Enter BID :\"))\n",
    "            if bid in list(df_blog.BID):\n",
    "                delete_blog(bid)\n",
    "            else:\n",
    "                print(\"Enter Valid BID\")\n",
    "        elif choice == 7:\n",
    "            bid = int(input(\"Enter BID :\"))\n",
    "            \n",
    "            if bid in list(df_blog.BID):\n",
    "                read_blog_content(bid)\n",
    "            else:\n",
    "                print(\"Enter Valid BID\")\n",
    "        elif choice == 8:\n",
    "            bid = int(input(\"Enter BID :\"))\n",
    "            if bid in list(df_blog.BID):\n",
    "                edit_blog_content(bid)\n",
    "            else:\n",
    "                print(\"Enter Valid BID\")\n",
    "        elif choice == 9:\n",
    "            text = input(\"Enter The Word To Search A Particular Blog :\")\n",
    "            search_blog(text)\n",
    "        elif choice == 0:\n",
    "            main_menu()\n",
    "            break;\n",
    "        else:\n",
    "            print(\"Enter Valid Choice\")\n",
    "\n",
    "def main_menu():\n",
    "    print(\"Welcome To Blogging App\")\n",
    "    while (True):\n",
    "        print(\"0. Exit\")\n",
    "        print(\"1. Login\")\n",
    "        print(\"2. Register\")\n",
    "        print(\"3. Show All User\")\n",
    "        choice = int(input(\"Enter your choice:\"))\n",
    "        if choice == 0:\n",
    "            break\n",
    "        elif choice == 1:\n",
    "            login()\n",
    "        elif choice == 2:\n",
    "            register_user()\n",
    "        elif choice == 3:\n",
    "            show_all_user()\n",
    "        else:\n",
    "            print(f\"OOPS Invalid Choice\")\n",
    "\n",
    "\n",
    "main_menu()"
   ]
  },
  {
   "cell_type": "code",
   "execution_count": null,
   "id": "a6d484c3",
   "metadata": {},
   "outputs": [],
   "source": []
  },
  {
   "cell_type": "code",
   "execution_count": null,
   "id": "1b92c66f",
   "metadata": {},
   "outputs": [],
   "source": []
  }
 ],
 "metadata": {
  "kernelspec": {
   "display_name": "Python 3 (ipykernel)",
   "language": "python",
   "name": "python3"
  },
  "language_info": {
   "codemirror_mode": {
    "name": "ipython",
    "version": 3
   },
   "file_extension": ".py",
   "mimetype": "text/x-python",
   "name": "python",
   "nbconvert_exporter": "python",
   "pygments_lexer": "ipython3",
   "version": "3.9.2"
  }
 },
 "nbformat": 4,
 "nbformat_minor": 5
}
